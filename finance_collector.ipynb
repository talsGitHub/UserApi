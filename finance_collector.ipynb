{
 "cells": [
  {
   "cell_type": "code",
   "execution_count": 80,
   "metadata": {},
   "outputs": [
    {
     "name": "stdout",
     "output_type": "stream",
     "text": [
      "        date      description        a     debt   credit   amount\n",
      "0  2020-09-29  ל.מאסטרקרד(יש)     9597    29.51      NaN -4981.17\n",
      "1  2020-09-25  מכתב חריגה עוש    67716     5.00      NaN -4951.66\n",
      "2  2020-09-25  ל.מאסטרקרד(יש)     9597    19.90      NaN -4946.66\n",
      "3  2020-09-22      שיק 12586   5000008   345.00      NaN -4926.76\n",
      "4  2020-09-21  ל.מאסטרקרד(יש)     9597    42.26      NaN -4581.76\n",
      "5  2020-09-10  ל.מאסטרקרד(יש)     9597  4413.17      NaN -4539.50\n",
      "6  2020-09-08  כספומט פרטי989    80910   506.90      NaN  -126.33\n",
      "7  2020-09-08  כספומט פרטי989    80910   506.90      NaN   380.57\n",
      "8  2020-09-08  כספומט פרטי989    80910   506.90      NaN   887.47\n",
      "9  2020-09-08  כספומט פרטי989    80910   506.90      NaN  1394.37\n",
      "10 2020-09-08  כספומט פרטי989    80910   106.90      NaN  1901.27\n",
      "11 2020-09-02  כספומט פרטי989    20915   206.90      NaN  2008.17\n",
      "12 2020-09-01  הע. אינטרנט700    52215  1000.00      NaN  2215.07\n",
      "13 2020-09-01  עמל.ערוץ יש 12       12    19.80      NaN  3215.07\n",
      "14 2020-09-01   סלקום ישראל-י    11506      NaN  6665.85  3234.87\n",
      "15 2020-08-27  ל.מאסטרקרד(יש)     9597    24.85      NaN -3430.98\n",
      "16 2020-08-25  ל.מאסטרקרד(יש)     9597    19.90      NaN -3406.13\n",
      "17 2020-08-20  מכתב חריגה עוש    67716     5.00      NaN -3386.23\n",
      "18 2020-08-20  ל.מאסטרקרד(יש)     9597    41.99      NaN -3381.23\n",
      "19 2020-08-16      שיק 12586   5000007   345.00      NaN -3339.24\n"
     ]
    }
   ],
   "source": [
    "import pandas as pd\n",
    "import numpy as np\n",
    "\n",
    "df = pd.read_excel (r'data1.xlsx') #place \"r\" before the path string to address special character, such as '\\'. Don't forget to put the file name at the end of the path + '.xlsx'\n",
    "\n",
    "print (df)"
   ]
  },
  {
   "cell_type": "code",
   "execution_count": 81,
   "metadata": {},
   "outputs": [
    {
     "name": "stdout",
     "output_type": "stream",
     "text": [
      "date \n",
      "description\n",
      "a\n",
      "debt\n",
      "credit\n",
      "amount\n"
     ]
    }
   ],
   "source": [
    "for col in df.columns: \n",
    "    print(col) \n",
    "    \n"
   ]
  },
  {
   "cell_type": "code",
   "execution_count": 82,
   "metadata": {},
   "outputs": [
    {
     "name": "stdout",
     "output_type": "stream",
     "text": [
      "19\n"
     ]
    }
   ],
   "source": [
    "\n",
    "data = df[['description', 'amount', 'debt', 'credit']]\n",
    "debt = data['debt'].count()\n",
    "print(debt)\n"
   ]
  },
  {
   "cell_type": "code",
   "execution_count": 83,
   "metadata": {},
   "outputs": [
    {
     "name": "stdout",
     "output_type": "stream",
     "text": [
      "description\n",
      "הע. אינטרנט700    1\n",
      "כספומט פרטי989    6\n",
      "ל.מאסטרקרד(יש)    7\n",
      "מכתב חריגה עוש    2\n",
      "סלקום ישראל-י     1\n",
      "עמל.ערוץ יש 12    1\n",
      "שיק 12586         2\n",
      "Name: amount, dtype: int64\n"
     ]
    }
   ],
   "source": [
    "descriptionCounts = data.groupby(\"description\")[\"amount\"].count()\n",
    "print(descriptionCounts)\n"
   ]
  },
  {
   "cell_type": "code",
   "execution_count": 84,
   "metadata": {},
   "outputs": [
    {
     "name": "stdout",
     "output_type": "stream",
     "text": [
      "8652.78\n"
     ]
    }
   ],
   "source": [
    "TotalDebt = data['debt'].sum()\n",
    "print(TotalDebt)"
   ]
  },
  {
   "cell_type": "code",
   "execution_count": 85,
   "metadata": {},
   "outputs": [
    {
     "name": "stdout",
     "output_type": "stream",
     "text": [
      "6665.85\n"
     ]
    }
   ],
   "source": [
    "TotalCredit = data['credit'].sum()\n",
    "print(TotalCredit)"
   ]
  },
  {
   "cell_type": "code",
   "execution_count": 96,
   "metadata": {},
   "outputs": [
    {
     "name": "stdout",
     "output_type": "stream",
     "text": [
      "description\n",
      "הע. אינטרנט700    1000\n",
      "כספומט פרטי989    2341\n",
      "ל.מאסטרקרד(יש)    4591\n",
      "מכתב חריגה עוש      10\n",
      "עמל.ערוץ יש 12      19\n",
      "שיק 12586          690\n",
      "Name: debt, dtype: int64\n"
     ]
    }
   ],
   "source": [
    "debtCounts = data.groupby(\"description\")[\"debt\"].count()\n",
    "debtCounts = debtCounts.replace(0, np.nan)\n",
    "debtCounts = debtCounts.dropna(how='all', axis=0)\n",
    "debtCounts = debtCounts.replace(np.nan, 0).astype(int)\n",
    "print(debtCounts)"
   ]
  },
  {
   "cell_type": "code",
   "execution_count": 123,
   "metadata": {},
   "outputs": [
    {
     "name": "stdout",
     "output_type": "stream",
     "text": [
      "description\n",
      "הע. אינטרנט700    1000.00\n",
      "כספומט פרטי989    2341.40\n",
      "ל.מאסטרקרד(יש)    4591.58\n",
      "מכתב חריגה עוש      10.00\n",
      "סלקום ישראל-י        0.00\n",
      "עמל.ערוץ יש 12      19.80\n",
      "שיק 12586          690.00\n",
      "Name: debt, dtype: float64\n"
     ]
    }
   ],
   "source": [
    "\n",
    "debtSums = data.groupby(\"description\")[\"debt\"].sum()\n",
    "\n",
    "print(debtSums)"
   ]
  },
  {
   "cell_type": "code",
   "execution_count": 101,
   "metadata": {},
   "outputs": [
    {
     "data": {
      "image/png": "[encoded data removed]",
      "text/plain": [
       "<Figure size 432x288 with 1 Axes>"
      ]
     },
     "metadata": {
      "needs_background": "light"
     },
     "output_type": "display_data"
    }
   ],
   "source": [
    "import matplotlib.pyplot as plt\n",
    "plt.plot(debtSums)\n",
    "plt.ylabel('some numbers')\n",
    "plt.show()"
   ]
  },
  {
   "cell_type": "code",
   "execution_count": 144,
   "metadata": {},
   "outputs": [
    {
     "name": "stdout",
     "output_type": "stream",
     "text": [
      "                   debt\n",
      "description            \n",
      "הע. אינטרנט700  1000.00\n",
      "כספומט פרטי989  2341.40\n",
      "ל.מאסטרקרד(יש)  4591.58\n",
      "מכתב חריגה עוש    10.00\n",
      "עמל.ערוץ יש 12    19.80\n",
      "שיק 12586        690.00\n",
      "['ל.מאסטרקרד(יש)', 'מכתב חריגה עוש', 'שיק 12586 ', 'כספומט פרטי989', 'הע. אינטרנט700', 'עמל.ערוץ יש 12', 'סלקום ישראל-י']\n"
     ]
    }
   ],
   "source": [
    "values = data[['debt', 'description']].dropna()\n",
    "values = values.groupby('description').sum()\n",
    "print(values)\n",
    "\n",
    "\n",
    "names = data['description'].drop_duplicates()\n",
    "names = names.tolist()\n",
    "print(names)\n",
    "\n"
   ]
  },
  {
   "cell_type": "code",
   "execution_count": 153,
   "metadata": {},
   "outputs": [
    {
     "data": {
      "image/png": "[encoded data removed]",
      "text/plain": [
       "<Figure size 432x288 with 1 Axes>"
      ]
     },
     "metadata": {
      "needs_background": "light"
     },
     "output_type": "display_data"
    }
   ],
   "source": [
    "debtSums.plot.bar(x=\"description\", y=\"debt\", rot=30, title=\"Debt Graph\");\n",
    "\n",
    "#plot.show(block=True);"
   ]
  },
  {
   "cell_type": "code",
   "execution_count": 167,
   "metadata": {},
   "outputs": [
    {
     "data": {
      "image/png": "[encoded data removed]",
      "text/plain": [
       "<Figure size 1440x360 with 1 Axes>"
      ]
     },
     "metadata": {
      "needs_background": "light"
     },
     "output_type": "display_data"
    }
   ],
   "source": [
    "values = []\n",
    "values.append(TotalDebt)\n",
    "values.append(TotalCredit)\n",
    "names = [\"Total Debt\", \"Total Credit\"]\n",
    "\n",
    "plt.figure(figsize=(20, 5))\n",
    "\n",
    "plt.subplot(131)\n",
    "plt.bar(names, values, color=('blue', 'red'))\n",
    "\n",
    "\n",
    "plt.suptitle('Categorical Plotting')\n",
    "plt.show()"
   ]
  },
  {
   "cell_type": "code",
   "execution_count": null,
   "metadata": {},
   "outputs": [],
   "source": []
  },
  {
   "cell_type": "code",
   "execution_count": null,
   "metadata": {},
   "outputs": [],
   "source": []
  }
 ],
 "metadata": {
  "kernelspec": {
   "display_name": "Python 3",
   "language": "python",
   "name": "python3"
  },
  "language_info": {
   "codemirror_mode": {
    "name": "ipython",
    "version": 3
   },
   "file_extension": ".py",
   "mimetype": "text/x-python",
   "name": "python",
   "nbconvert_exporter": "python",
   "pygments_lexer": "ipython3",
   "version": "3.8.5"
  }
 },
 "nbformat": 4,
 "nbformat_minor": 4
}
